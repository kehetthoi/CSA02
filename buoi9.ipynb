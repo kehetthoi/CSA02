{
 "cells": [
  {
   "cell_type": "code",
   "execution_count": 1,
   "metadata": {},
   "outputs": [],
   "source": [
    "import pandas as pd"
   ]
  },
  {
   "cell_type": "code",
   "execution_count": 2,
   "metadata": {},
   "outputs": [
    {
     "data": {
      "text/html": [
       "<div>\n",
       "<style scoped>\n",
       "    .dataframe tbody tr th:only-of-type {\n",
       "        vertical-align: middle;\n",
       "    }\n",
       "\n",
       "    .dataframe tbody tr th {\n",
       "        vertical-align: top;\n",
       "    }\n",
       "\n",
       "    .dataframe thead th {\n",
       "        text-align: right;\n",
       "    }\n",
       "</style>\n",
       "<table border=\"1\" class=\"dataframe\">\n",
       "  <thead>\n",
       "    <tr style=\"text-align: right;\">\n",
       "      <th></th>\n",
       "      <th>Name</th>\n",
       "      <th>Age</th>\n",
       "      <th>Class</th>\n",
       "      <th>Score</th>\n",
       "    </tr>\n",
       "  </thead>\n",
       "  <tbody>\n",
       "    <tr>\n",
       "      <th>0</th>\n",
       "      <td>Nguyen Van A</td>\n",
       "      <td>22</td>\n",
       "      <td>Python</td>\n",
       "      <td>85</td>\n",
       "    </tr>\n",
       "    <tr>\n",
       "      <th>1</th>\n",
       "      <td>Tran Thi B</td>\n",
       "      <td>21</td>\n",
       "      <td>JavaScript</td>\n",
       "      <td>90</td>\n",
       "    </tr>\n",
       "    <tr>\n",
       "      <th>2</th>\n",
       "      <td>Le Van C</td>\n",
       "      <td>23</td>\n",
       "      <td>Python</td>\n",
       "      <td>78</td>\n",
       "    </tr>\n",
       "    <tr>\n",
       "      <th>3</th>\n",
       "      <td>Pham Thi D</td>\n",
       "      <td>20</td>\n",
       "      <td>JavaScript</td>\n",
       "      <td>88</td>\n",
       "    </tr>\n",
       "    <tr>\n",
       "      <th>4</th>\n",
       "      <td>Hoang Van E</td>\n",
       "      <td>22</td>\n",
       "      <td>Python</td>\n",
       "      <td>95</td>\n",
       "    </tr>\n",
       "    <tr>\n",
       "      <th>5</th>\n",
       "      <td>Do Thi F</td>\n",
       "      <td>24</td>\n",
       "      <td>JavaScript</td>\n",
       "      <td>82</td>\n",
       "    </tr>\n",
       "    <tr>\n",
       "      <th>6</th>\n",
       "      <td>Bui Van G</td>\n",
       "      <td>23</td>\n",
       "      <td>Python</td>\n",
       "      <td>91</td>\n",
       "    </tr>\n",
       "    <tr>\n",
       "      <th>7</th>\n",
       "      <td>Nguyen Thi H</td>\n",
       "      <td>22</td>\n",
       "      <td>JavaScript</td>\n",
       "      <td>79</td>\n",
       "    </tr>\n",
       "    <tr>\n",
       "      <th>8</th>\n",
       "      <td>Le Van I</td>\n",
       "      <td>21</td>\n",
       "      <td>Python</td>\n",
       "      <td>86</td>\n",
       "    </tr>\n",
       "    <tr>\n",
       "      <th>9</th>\n",
       "      <td>Tran Van J</td>\n",
       "      <td>20</td>\n",
       "      <td>JavaScript</td>\n",
       "      <td>84</td>\n",
       "    </tr>\n",
       "  </tbody>\n",
       "</table>\n",
       "</div>"
      ],
      "text/plain": [
       "           Name  Age       Class  Score\n",
       "0  Nguyen Van A   22      Python     85\n",
       "1    Tran Thi B   21  JavaScript     90\n",
       "2      Le Van C   23      Python     78\n",
       "3    Pham Thi D   20  JavaScript     88\n",
       "4   Hoang Van E   22      Python     95\n",
       "5      Do Thi F   24  JavaScript     82\n",
       "6     Bui Van G   23      Python     91\n",
       "7  Nguyen Thi H   22  JavaScript     79\n",
       "8      Le Van I   21      Python     86\n",
       "9    Tran Van J   20  JavaScript     84"
      ]
     },
     "execution_count": 2,
     "metadata": {},
     "output_type": "execute_result"
    }
   ],
   "source": [
    "data = {\n",
    "    'Name': ['Nguyen Van A', 'Tran Thi B', 'Le Van C', 'Pham Thi D', 'Hoang Van E',\n",
    "             'Do Thi F', 'Bui Van G', 'Nguyen Thi H', 'Le Van I', 'Tran Van J'],\n",
    "    'Age': [22, 21, 23, 20, 22, 24, 23, 22, 21, 20],\n",
    "    'Class': ['Python', 'JavaScript', 'Python', 'JavaScript', 'Python', \n",
    "              'JavaScript', 'Python', 'JavaScript', 'Python', 'JavaScript'],\n",
    "    'Score': [85, 90, 78, 88, 95, 82, 91, 79, 86, 84]\n",
    "}\n",
    "df = pd.DataFrame(data)\n",
    "df"
   ]
  },
  {
   "cell_type": "code",
   "execution_count": 3,
   "metadata": {},
   "outputs": [
    {
     "name": "stdout",
     "output_type": "stream",
     "text": [
      "5 hàng đầu tiên:\n",
      "           Name  Age       Class  Score\n",
      "0  Nguyen Van A   22      Python     85\n",
      "1    Tran Thi B   21  JavaScript     90\n",
      "2      Le Van C   23      Python     78\n",
      "3    Pham Thi D   20  JavaScript     88\n",
      "4   Hoang Van E   22      Python     95\n"
     ]
    }
   ],
   "source": [
    "print(\"5 hàng đầu tiên:\")\n",
    "print(df.head())"
   ]
  },
  {
   "cell_type": "code",
   "execution_count": 5,
   "metadata": {},
   "outputs": [
    {
     "name": "stdout",
     "output_type": "stream",
     "text": [
      "<class 'pandas.core.frame.DataFrame'>\n",
      "RangeIndex: 10 entries, 0 to 9\n",
      "Data columns (total 4 columns):\n",
      " #   Column  Non-Null Count  Dtype \n",
      "---  ------  --------------  ----- \n",
      " 0   Name    10 non-null     object\n",
      " 1   Age     10 non-null     int64 \n",
      " 2   Class   10 non-null     object\n",
      " 3   Score   10 non-null     int64 \n",
      "dtypes: int64(2), object(2)\n",
      "memory usage: 452.0+ bytes\n",
      "None\n"
     ]
    }
   ],
   "source": [
    "print(df.info())"
   ]
  },
  {
   "cell_type": "code",
   "execution_count": 6,
   "metadata": {},
   "outputs": [
    {
     "name": "stdout",
     "output_type": "stream",
     "text": [
      "Kiểu dữ liệu của các cột:\n",
      "Name     object\n",
      "Age       int64\n",
      "Class    object\n",
      "Score     int64\n",
      "dtype: object\n"
     ]
    }
   ],
   "source": [
    "print(\"Kiểu dữ liệu của các cột:\")\n",
    "print(df.dtypes)"
   ]
  },
  {
   "cell_type": "code",
   "execution_count": 9,
   "metadata": {},
   "outputs": [
    {
     "name": "stdout",
     "output_type": "stream",
     "text": [
      "cột age\n",
      "0    22\n",
      "1    21\n",
      "2    23\n",
      "3    20\n",
      "4    22\n",
      "5    24\n",
      "6    23\n",
      "7    22\n",
      "8    21\n",
      "9    20\n",
      "Name: Age, dtype: int64\n"
     ]
    }
   ],
   "source": [
    "age = df['Age']\n",
    "print(\"cột age\")\n",
    "print(age)\n"
   ]
  },
  {
   "cell_type": "code",
   "execution_count": 12,
   "metadata": {},
   "outputs": [
    {
     "name": "stdout",
     "output_type": "stream",
     "text": [
      "          Name  Age   Class  Score\n",
      "4  Hoang Van E   22  Python     95\n"
     ]
    }
   ],
   "source": [
    "hs=df[(df['Name']=='Hoang Van E') & (df['Class']=='Python')]\n",
    "print(hs)"
   ]
  },
  {
   "cell_type": "code",
   "execution_count": 13,
   "metadata": {},
   "outputs": [
    {
     "name": "stdout",
     "output_type": "stream",
     "text": [
      "         Name  Age       Class  Score\n",
      "1  Tran Thi B   21  JavaScript     90\n",
      "3  Pham Thi D   20  JavaScript     88\n",
      "5    Do Thi F   24  JavaScript     82\n",
      "9  Tran Van J   20  JavaScript     84\n"
     ]
    }
   ],
   "source": [
    "hs2=df[(df['Class']=='JavaScript') & (df['Score']>80)]\n",
    "print(hs2)"
   ]
  },
  {
   "cell_type": "code",
   "execution_count": 1,
   "metadata": {},
   "outputs": [
    {
     "ename": "NameError",
     "evalue": "name 'df' is not defined",
     "output_type": "error",
     "traceback": [
      "\u001b[1;31m---------------------------------------------------------------------------\u001b[0m",
      "\u001b[1;31mNameError\u001b[0m                                 Traceback (most recent call last)",
      "Cell \u001b[1;32mIn[1], line 1\u001b[0m\n\u001b[1;32m----> 1\u001b[0m a \u001b[38;5;241m=\u001b[39m \u001b[43mdf\u001b[49m\u001b[38;5;241m.\u001b[39mloc[\u001b[38;5;241m15\u001b[39m:\u001b[38;5;241m21\u001b[39m, \u001b[38;5;124m'\u001b[39m\u001b[38;5;124mName\u001b[39m\u001b[38;5;124m'\u001b[39m]\n\u001b[0;32m      2\u001b[0m \u001b[38;5;28mprint\u001b[39m(a)\n",
      "\u001b[1;31mNameError\u001b[0m: name 'df' is not defined"
     ]
    }
   ],
   "source": [
    "a = df.loc[15:21, 'Name']\n",
    "print(a)\n"
   ]
  }
 ],
 "metadata": {
  "kernelspec": {
   "display_name": "Python 3",
   "language": "python",
   "name": "python3"
  },
  "language_info": {
   "codemirror_mode": {
    "name": "ipython",
    "version": 3
   },
   "file_extension": ".py",
   "mimetype": "text/x-python",
   "name": "python",
   "nbconvert_exporter": "python",
   "pygments_lexer": "ipython3",
   "version": "3.12.4"
  }
 },
 "nbformat": 4,
 "nbformat_minor": 2
}
